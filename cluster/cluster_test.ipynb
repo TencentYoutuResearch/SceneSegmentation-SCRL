{
 "cells": [
  {
   "cell_type": "code",
   "execution_count": 1,
   "metadata": {},
   "outputs": [],
   "source": [
    "from Group import Cluster_GPU as Cluster\n",
    "import matplotlib.pyplot as plt\n",
    "import torch\n",
    "import random"
   ]
  },
  {
   "cell_type": "code",
   "execution_count": 2,
   "metadata": {},
   "outputs": [],
   "source": [
    "num_clusters = 3\n",
    "cluster = Cluster(num_clusters=num_clusters, \n",
    "    max_iter=30, \n",
    "    shift_threshold=1e-3, \n",
    "    device='cuda',\n",
    "    debug=True\n",
    ")"
   ]
  },
  {
   "cell_type": "code",
   "execution_count": 3,
   "metadata": {},
   "outputs": [
    {
     "name": "stdout",
     "output_type": "stream",
     "text": [
      "torch.Size([5, 300, 2])\n"
     ]
    }
   ],
   "source": [
    "num_point = 300\n",
    "batch = 5\n",
    "test_tensor = torch.cat([\n",
    "    torch.randn(batch, num_point//3, 2) + 4, \n",
    "    torch.randn(batch, num_point//3, 2) - 4, \n",
    "    torch.randn(batch, num_point//3, 2)],\n",
    "    dim=1\n",
    ")\n",
    "test_tensor = test_tensor.cuda()\n",
    "print(test_tensor.size())\n"
   ]
  },
  {
   "cell_type": "code",
   "execution_count": 4,
   "metadata": {},
   "outputs": [
    {
     "name": "stdout",
     "output_type": "stream",
     "text": [
      "Iter: 1 center_shift: 32.28633\n",
      "Iter: 2 center_shift: 6.91954\n",
      "Iter: 3 center_shift: 0.12403\n",
      "Iter: 4 center_shift: 0.00000\n",
      "Time cost: 0.025\n",
      "Stopped for the center_shift!\n",
      "Iter: 1 center_shift: 13.87646\n",
      "Iter: 2 center_shift: 4.93253\n",
      "Iter: 3 center_shift: 0.00000\n",
      "Time cost: 0.008\n",
      "Stopped for the center_shift!\n",
      "Iter: 1 center_shift: 3.94572\n",
      "Iter: 2 center_shift: 0.00000\n",
      "Time cost: 0.006\n",
      "Stopped for the center_shift!\n",
      "Iter: 1 center_shift: 5.07124\n",
      "Iter: 2 center_shift: 1.16594\n",
      "Iter: 3 center_shift: 0.00000\n",
      "Time cost: 0.008\n",
      "Stopped for the center_shift!\n",
      "Iter: 1 center_shift: 14.44800\n",
      "Iter: 2 center_shift: 3.34260\n",
      "Iter: 3 center_shift: 0.21062\n",
      "Iter: 4 center_shift: 0.00000\n",
      "Time cost: 0.011\n",
      "Stopped for the center_shift!\n"
     ]
    }
   ],
   "source": [
    "cluster_ids_stack, cluster_centers_stack = cluster(test_tensor)"
   ]
  },
  {
   "cell_type": "code",
   "execution_count": 5,
   "metadata": {},
   "outputs": [
    {
     "name": "stdout",
     "output_type": "stream",
     "text": [
      "(300, 2)\n",
      "(300,)\n",
      "(3,)\n"
     ]
    },
    {
     "data": {
      "image/png": "[encoded data removed]",
      "text/plain": [
       "<Figure size 432x288 with 1 Axes>"
      ]
     },
     "metadata": {
      "needs_background": "light"
     },
     "output_type": "display_data"
    }
   ],
   "source": [
    "data = test_tensor[-1,:].cpu().numpy()\n",
    "index = cluster_ids_stack[-1,:]\n",
    "cluster_centers = cluster_centers_stack[-1,:]\n",
    "print(data.shape)\n",
    "print(index.shape)\n",
    "print(cluster_centers.shape)\n",
    "color = ['orange', 'b', 'g', 'r', 'm', 'y', 'k','c'] * num_clusters\n",
    "for i in range(num_clusters):\n",
    "    t_c = (random.uniform(0, 1), random.uniform(0, 1), random.uniform(0, 1))\n",
    "    plt.scatter(data[index==i,0], data[index==i,1],marker='.',s=90,color=color[i])\n",
    "    plt.scatter(data[int(cluster_centers[i]),0], data[int(cluster_centers[i]),1],marker='^',s=150,color=color[i])\n",
    "plt.show()"
   ]
  },
  {
   "cell_type": "code",
   "execution_count": null,
   "metadata": {},
   "outputs": [],
   "source": []
  },
  {
   "cell_type": "code",
   "execution_count": null,
   "metadata": {},
   "outputs": [],
   "source": []
  }
 ],
 "metadata": {
  "interpreter": {
   "hash": "916dbcbb3f70747c44a77c7bcd40155683ae19c65e1c03b4aa3499c5328201f1"
  },
  "kernelspec": {
   "display_name": "Python 3.6.8 64-bit",
   "name": "python3"
  },
  "language_info": {
   "codemirror_mode": {
    "name": "ipython",
    "version": 3
   },
   "file_extension": ".py",
   "mimetype": "text/x-python",
   "name": "python",
   "nbconvert_exporter": "python",
   "pygments_lexer": "ipython3",
   "version": "3.6.8"
  },
  "orig_nbformat": 4
 },
 "nbformat": 4,
 "nbformat_minor": 2
}
